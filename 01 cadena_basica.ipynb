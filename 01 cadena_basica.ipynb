{
 "cells": [
  {
   "cell_type": "code",
   "execution_count": 1,
   "id": "f1b10d60-416c-4ddf-9185-2d3d788b860a",
   "metadata": {},
   "outputs": [],
   "source": [
    "!pip install langchain langchain-openai -q"
   ]
  },
  {
   "cell_type": "code",
   "execution_count": 2,
   "id": "aa190bbf-02cd-45fe-9f7e-5d4859201730",
   "metadata": {},
   "outputs": [],
   "source": [
    "from langchain import PromptTemplate, LLMChain\n",
    "from langchain_openai import ChatOpenAI\n",
    "import os\n",
    "from getpass import getpass"
   ]
  },
  {
   "cell_type": "code",
   "execution_count": 3,
   "id": "51db31f2-f14d-4c14-b4de-15a49765cea1",
   "metadata": {},
   "outputs": [
    {
     "name": "stdin",
     "output_type": "stream",
     "text": [
      " ········\n"
     ]
    }
   ],
   "source": [
    "OPENAI_API_KEY = getpass()\n",
    "os.environ[\"OPENAI_API_KEY\"] = OPENAI_API_KEY"
   ]
  },
  {
   "cell_type": "code",
   "execution_count": 4,
   "id": "b81d1a9c-7d1f-4623-84d2-f63bc2564575",
   "metadata": {},
   "outputs": [],
   "source": [
    "template = \"Pregunta: {pregunta}\\nRespuesta:\"\n",
    "prompt = PromptTemplate(template=template, input_variables=[\"pregunta\"])"
   ]
  },
  {
   "cell_type": "code",
   "execution_count": 5,
   "id": "926bfdda-3614-48a1-933f-e24757c3f31b",
   "metadata": {},
   "outputs": [
    {
     "name": "stdout",
     "output_type": "stream",
     "text": [
      "Pregunta: {pregunta}\n",
      "Respuesta:\n"
     ]
    }
   ],
   "source": [
    "print(template)"
   ]
  },
  {
   "cell_type": "code",
   "execution_count": 7,
   "id": "8b1496fc-ae17-41f7-a074-a871278951d7",
   "metadata": {},
   "outputs": [],
   "source": [
    "llm = ChatOpenAI(model=\"gpt-4o\")"
   ]
  },
  {
   "cell_type": "code",
   "execution_count": 8,
   "id": "7afdeeb4-3343-4b2c-a35f-129cba1b60ec",
   "metadata": {},
   "outputs": [],
   "source": [
    "chain = prompt | llm"
   ]
  },
  {
   "cell_type": "code",
   "execution_count": 9,
   "id": "38c3835e-4996-41b3-a307-16d8fe531607",
   "metadata": {},
   "outputs": [],
   "source": [
    "response = chain.invoke({\"pregunta\": \"¿Cuál es la capital de Chile?\"})"
   ]
  },
  {
   "cell_type": "code",
   "execution_count": 10,
   "id": "f6411b06-41ce-42ff-9655-def7dc8d530c",
   "metadata": {},
   "outputs": [
    {
     "name": "stdout",
     "output_type": "stream",
     "text": [
      "content='La capital de Chile es Santiago.' response_metadata={'token_usage': {'completion_tokens': 7, 'prompt_tokens': 19, 'total_tokens': 26}, 'model_name': 'gpt-4o', 'system_fingerprint': 'fp_319be4768e', 'finish_reason': 'stop', 'logprobs': None} id='run-2eef142f-f47c-4056-9101-c1aafd07b19b-0' usage_metadata={'input_tokens': 19, 'output_tokens': 7, 'total_tokens': 26}\n"
     ]
    }
   ],
   "source": [
    "print(response)"
   ]
  },
  {
   "cell_type": "code",
   "execution_count": 11,
   "id": "404afb4b-9f4f-450f-b49f-bb584a0ccaa6",
   "metadata": {},
   "outputs": [
    {
     "name": "stdout",
     "output_type": "stream",
     "text": [
      "La capital de Chile es Santiago.\n"
     ]
    }
   ],
   "source": [
    "print(response.content)"
   ]
  },
  {
   "cell_type": "code",
   "execution_count": null,
   "id": "6afd83b8-a082-4b08-b87d-19f4ed80ba02",
   "metadata": {},
   "outputs": [],
   "source": []
  },
  {
   "cell_type": "code",
   "execution_count": null,
   "id": "b3e87cb0-e68c-463b-9f29-02bcf6c674c4",
   "metadata": {},
   "outputs": [],
   "source": []
  },
  {
   "cell_type": "code",
   "execution_count": null,
   "id": "3465c62c-3ffe-4706-abbd-b42f25419f31",
   "metadata": {},
   "outputs": [],
   "source": []
  },
  {
   "cell_type": "code",
   "execution_count": null,
   "id": "73f86819-75b9-4cee-85f5-e31e8bbbb0a2",
   "metadata": {},
   "outputs": [],
   "source": []
  },
  {
   "cell_type": "code",
   "execution_count": null,
   "id": "d745c797-332e-4ce8-8ee1-59c61904e5cf",
   "metadata": {},
   "outputs": [],
   "source": []
  },
  {
   "cell_type": "code",
   "execution_count": null,
   "id": "a1e33f0d-40f3-4738-8b38-b92d1c756295",
   "metadata": {},
   "outputs": [],
   "source": []
  },
  {
   "cell_type": "code",
   "execution_count": null,
   "id": "9f6d5bf7-e84e-4110-a228-625e69555e1c",
   "metadata": {},
   "outputs": [],
   "source": []
  },
  {
   "cell_type": "code",
   "execution_count": null,
   "id": "756a83d5-2ae5-4e4f-8af2-3abd9ce6f6fb",
   "metadata": {},
   "outputs": [],
   "source": []
  },
  {
   "cell_type": "code",
   "execution_count": null,
   "id": "12564d55-9406-486a-b4a0-b55d8f5fbb85",
   "metadata": {},
   "outputs": [],
   "source": []
  },
  {
   "cell_type": "code",
   "execution_count": null,
   "id": "e71bcfdf-e7e7-45fa-9d88-968879e9a5a2",
   "metadata": {},
   "outputs": [],
   "source": []
  },
  {
   "cell_type": "code",
   "execution_count": null,
   "id": "54e5b43d-7483-4c75-9e1a-ed5918cfdfbd",
   "metadata": {},
   "outputs": [],
   "source": []
  },
  {
   "cell_type": "code",
   "execution_count": null,
   "id": "0a9b777d-6904-44ab-9a7f-fd289d6c7718",
   "metadata": {},
   "outputs": [],
   "source": []
  },
  {
   "cell_type": "code",
   "execution_count": null,
   "id": "8943cacb-a0fb-4391-a818-e1bf7a42a38a",
   "metadata": {},
   "outputs": [],
   "source": [
    "print(response.content)"
   ]
  },
  {
   "cell_type": "code",
   "execution_count": null,
   "id": "18f5434d-c59b-40e6-843c-9de7818221c5",
   "metadata": {},
   "outputs": [],
   "source": []
  },
  {
   "cell_type": "code",
   "execution_count": null,
   "id": "a9d71e01-c10d-474e-bd9a-93c1e6f05af3",
   "metadata": {},
   "outputs": [],
   "source": []
  },
  {
   "cell_type": "code",
   "execution_count": null,
   "id": "e412bad3-726f-417f-bd19-a3217efa9616",
   "metadata": {},
   "outputs": [],
   "source": []
  },
  {
   "cell_type": "code",
   "execution_count": null,
   "id": "0d97c190-ec6a-4cb3-a0b1-8001a575ba56",
   "metadata": {},
   "outputs": [],
   "source": []
  }
 ],
 "metadata": {
  "kernelspec": {
   "display_name": "Python 3 (ipykernel)",
   "language": "python",
   "name": "python3"
  },
  "language_info": {
   "codemirror_mode": {
    "name": "ipython",
    "version": 3
   },
   "file_extension": ".py",
   "mimetype": "text/x-python",
   "name": "python",
   "nbconvert_exporter": "python",
   "pygments_lexer": "ipython3",
   "version": "3.12.3"
  }
 },
 "nbformat": 4,
 "nbformat_minor": 5
}
